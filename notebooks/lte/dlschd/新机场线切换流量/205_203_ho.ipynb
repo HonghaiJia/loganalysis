{
 "cells": [
  {
   "cell_type": "code",
   "execution_count": 1,
   "metadata": {},
   "outputs": [
    {
     "name": "stdout",
     "output_type": "stream",
     "text": [
      "E:\\loganalysis\\loganalysis\n"
     ]
    }
   ],
   "source": [
    "cd E:\\\\loganalysis\\loganalysis"
   ]
  },
  {
   "cell_type": "code",
   "execution_count": 2,
   "metadata": {},
   "outputs": [],
   "source": [
    "from loganalysis.lte.ltelog import LteLog"
   ]
  },
  {
   "cell_type": "code",
   "execution_count": 3,
   "metadata": {},
   "outputs": [],
   "source": [
    "log = LteLog(r'E:\\jiahonghai\\bNet_DingQiao_Tau_log\\EI_Report\\172.16.7.201\\EI_Detail\\20190422230534')"
   ]
  },
  {
   "cell_type": "code",
   "execution_count": 4,
   "metadata": {},
   "outputs": [
    {
     "data": {
      "text/html": [
       "<div>\n",
       "<style scoped>\n",
       "    .dataframe tbody tr th:only-of-type {\n",
       "        vertical-align: middle;\n",
       "    }\n",
       "\n",
       "    .dataframe tbody tr th {\n",
       "        vertical-align: top;\n",
       "    }\n",
       "\n",
       "    .dataframe thead th {\n",
       "        text-align: right;\n",
       "    }\n",
       "</style>\n",
       "<table border=\"1\" class=\"dataframe\">\n",
       "  <thead>\n",
       "    <tr style=\"text-align: right;\">\n",
       "      <th></th>\n",
       "      <th>size</th>\n",
       "      <th>num_of_files</th>\n",
       "      <th>num_of_lines</th>\n",
       "      <th>pctime_start</th>\n",
       "      <th>pctime_end</th>\n",
       "      <th>airtime_start</th>\n",
       "      <th>airtime_end</th>\n",
       "    </tr>\n",
       "    <tr>\n",
       "      <th>filename</th>\n",
       "      <th></th>\n",
       "      <th></th>\n",
       "      <th></th>\n",
       "      <th></th>\n",
       "      <th></th>\n",
       "      <th></th>\n",
       "      <th></th>\n",
       "    </tr>\n",
       "  </thead>\n",
       "  <tbody>\n",
       "    <tr>\n",
       "      <th>RTL2_ulUeTtiInfo</th>\n",
       "      <td>34720984.0</td>\n",
       "      <td>2.0</td>\n",
       "      <td>73586.0</td>\n",
       "      <td>23: 5:35:798</td>\n",
       "      <td>23: 7: 6:229</td>\n",
       "      <td>2.726796e+09</td>\n",
       "      <td>2.726941e+09</td>\n",
       "    </tr>\n",
       "    <tr>\n",
       "      <th>RTL2_dlUeTtiInfo</th>\n",
       "      <td>73700769.0</td>\n",
       "      <td>3.0</td>\n",
       "      <td>205795.0</td>\n",
       "      <td>23: 5:35:798</td>\n",
       "      <td>23: 7: 6:229</td>\n",
       "      <td>2.726796e+09</td>\n",
       "      <td>2.726941e+09</td>\n",
       "    </tr>\n",
       "  </tbody>\n",
       "</table>\n",
       "</div>"
      ],
      "text/plain": [
       "                        size  num_of_files  num_of_lines  pctime_start  \\\n",
       "filename                                                                 \n",
       "RTL2_ulUeTtiInfo  34720984.0           2.0       73586.0  23: 5:35:798   \n",
       "RTL2_dlUeTtiInfo  73700769.0           3.0      205795.0  23: 5:35:798   \n",
       "\n",
       "                    pctime_end  airtime_start   airtime_end  \n",
       "filename                                                     \n",
       "RTL2_ulUeTtiInfo  23: 7: 6:229   2.726796e+09  2.726941e+09  \n",
       "RTL2_dlUeTtiInfo  23: 7: 6:229   2.726796e+09  2.726941e+09  "
      ]
     },
     "execution_count": 4,
     "metadata": {},
     "output_type": "execute_result"
    }
   ],
   "source": [
    "log.describle()"
   ]
  },
  {
   "cell_type": "code",
   "execution_count": 5,
   "metadata": {},
   "outputs": [
    {
     "data": {
      "text/plain": [
       "'所有CellId：{201, 202, 203, 204, 205, 206}. 请使用get_cell(cellid)获取对应的Cell实例'"
      ]
     },
     "execution_count": 5,
     "metadata": {},
     "output_type": "execute_result"
    }
   ],
   "source": [
    "log.get_cell()"
   ]
  },
  {
   "cell_type": "code",
   "execution_count": null,
   "metadata": {},
   "outputs": [],
   "source": [
    "cell203 = log.get_cell(203)"
   ]
  },
  {
   "cell_type": "code",
   "execution_count": null,
   "metadata": {},
   "outputs": [],
   "source": [
    "cell205 = log.get_cell(205)"
   ]
  },
  {
   "cell_type": "code",
   "execution_count": null,
   "metadata": {},
   "outputs": [],
   "source": [
    "cell205.get_ue()"
   ]
  },
  {
   "cell_type": "code",
   "execution_count": null,
   "metadata": {},
   "outputs": [],
   "source": [
    "ueIn203 = cell203.get_ue(247)"
   ]
  },
  {
   "cell_type": "code",
   "execution_count": null,
   "metadata": {},
   "outputs": [],
   "source": [
    "ueIn205 = cell205.get_ue(247)"
   ]
  },
  {
   "cell_type": "code",
   "execution_count": null,
   "metadata": {},
   "outputs": [],
   "source": [
    "cell203.show_ue_livetime()"
   ]
  },
  {
   "cell_type": "code",
   "execution_count": null,
   "metadata": {},
   "outputs": [],
   "source": [
    "cell205.show_ue_livetime()"
   ]
  },
  {
   "cell_type": "code",
   "execution_count": null,
   "metadata": {},
   "outputs": [],
   "source": [
    "ueIn203.dl.show_amc()"
   ]
  },
  {
   "cell_type": "code",
   "execution_count": null,
   "metadata": {},
   "outputs": [],
   "source": [
    "ueIn205.dl.show_amc()"
   ]
  },
  {
   "cell_type": "code",
   "execution_count": null,
   "metadata": {},
   "outputs": [],
   "source": [
    "ueIn205.dl.show_bler_of_subframe()"
   ]
  },
  {
   "cell_type": "code",
   "execution_count": null,
   "metadata": {},
   "outputs": [],
   "source": [
    "ueIn205.ul.show_amc()"
   ]
  },
  {
   "cell_type": "code",
   "execution_count": null,
   "metadata": {},
   "outputs": [],
   "source": [
    "ueIn203.ul.show_amc()"
   ]
  },
  {
   "cell_type": "code",
   "execution_count": null,
   "metadata": {},
   "outputs": [],
   "source": []
  },
  {
   "cell_type": "code",
   "execution_count": null,
   "metadata": {},
   "outputs": [],
   "source": []
  }
 ],
 "metadata": {
  "kernelspec": {
   "display_name": "Python 3",
   "language": "python",
   "name": "python3"
  },
  "language_info": {
   "codemirror_mode": {
    "name": "ipython",
    "version": 3
   },
   "file_extension": ".py",
   "mimetype": "text/x-python",
   "name": "python",
   "nbconvert_exporter": "python",
   "pygments_lexer": "ipython3",
   "version": "3.6.5"
  }
 },
 "nbformat": 4,
 "nbformat_minor": 2
}
