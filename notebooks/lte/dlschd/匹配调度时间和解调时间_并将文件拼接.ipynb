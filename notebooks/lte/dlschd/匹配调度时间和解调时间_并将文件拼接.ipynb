{
 "cells": [
  {
   "cell_type": "code",
   "execution_count": 1,
   "metadata": {},
   "outputs": [
    {
     "name": "stdout",
     "output_type": "stream",
     "text": [
      "E:\\work\\Python\\Test\\rtl2\\LogAnalysis\n"
     ]
    }
   ],
   "source": [
    "cd E:\\work\\Python\\Test\\rtl2\\LogAnalysis"
   ]
  },
  {
   "cell_type": "code",
   "execution_count": 2,
   "metadata": {
    "collapsed": true
   },
   "outputs": [],
   "source": [
    "from loganalysis.lte.ltelog import LteLog"
   ]
  },
  {
   "cell_type": "code",
   "execution_count": 3,
   "metadata": {
    "collapsed": true
   },
   "outputs": [],
   "source": [
    "log = LteLog(r'E:\\work\\Python\\Test\\TestData')"
   ]
  },
  {
   "cell_type": "code",
   "execution_count": null,
   "metadata": {},
   "outputs": [],
   "source": []
  },
  {
   "cell_type": "code",
   "execution_count": 5,
   "metadata": {},
   "outputs": [
    {
     "data": {
      "text/plain": [
       "'所有CellId：{3}. 请使用get_cell(cellid)获取对应的Cell实例'"
      ]
     },
     "execution_count": 5,
     "metadata": {},
     "output_type": "execute_result"
    }
   ],
   "source": [
    "log.get_cell()"
   ]
  },
  {
   "cell_type": "code",
   "execution_count": 6,
   "metadata": {
    "collapsed": true
   },
   "outputs": [],
   "source": [
    "cell = log.get_cell(3)"
   ]
  },
  {
   "cell_type": "code",
   "execution_count": 7,
   "metadata": {},
   "outputs": [
    {
     "name": "stdout",
     "output_type": "stream",
     "text": [
      "Help on method match_schd_and_ack in module loganalysis.lte.dlschd:\n",
      "\n",
      "match_schd_and_ack(cols) method of loganalysis.lte.dlschd.DlSchdCell instance\n",
      "    匹配调度和Ack反馈信息\n",
      "    \n",
      "    根据调度时间，UEGID，HarqID匹配调度与ACK信息\n",
      "    Args：\n",
      "        cols: 匹配后输出的列名\n",
      "    Yields:\n",
      "        DataFrame, 生成器方式\n",
      "\n"
     ]
    }
   ],
   "source": [
    "help(cell.dl.match_schd_and_ack)"
   ]
  },
  {
   "cell_type": "code",
   "execution_count": 8,
   "metadata": {},
   "outputs": [],
   "source": [
    "files = cell.dl._log._files"
   ]
  },
  {
   "cell_type": "code",
   "execution_count": 9,
   "metadata": {},
   "outputs": [],
   "source": [
    "import os"
   ]
  },
  {
   "cell_type": "code",
   "execution_count": 10,
   "metadata": {},
   "outputs": [],
   "source": [
    "cols = ['AirTime','FN','SubFN','UEGID','SCHD.u8RbNum','SCHD.u8HarqId','SCHD.u16ReNum','SCHD.u32RbMap','TB.u8TbIdx','TB.u8Mcs','TB.u16TbSize','TB.u8TxCnt','TB.u16CodeRate','ACK.u32DemTime','ACK.u8HarqId','ACK.u8Tb0AckInfo','ACK.u8Tb1AckInfo','ACK.u8Tb0IsHarqFail','ACK.u8Tb1IsHarqFail']\n",
    "outdir = r'E:\\work\\Python\\Test\\TestData\\matchack'\n",
    "index = 0\n",
    "for matchdata in cell.dl.match_schd_and_ack(cols):\n",
    "    name = os.path.join(outdir, files[index])\n",
    "    index = index + 1\n",
    "    matchdata.to_csv(name)\n",
    "    "
   ]
  },
  {
   "cell_type": "code",
   "execution_count": 11,
   "metadata": {},
   "outputs": [],
   "source": [
    "matchfiles = os.listdir(r'E:\\work\\Python\\Test\\TestData\\matchack')"
   ]
  },
  {
   "cell_type": "code",
   "execution_count": 12,
   "metadata": {
    "collapsed": true
   },
   "outputs": [],
   "source": [
    "import pandas as pd"
   ]
  },
  {
   "cell_type": "code",
   "execution_count": 13,
   "metadata": {},
   "outputs": [
    {
     "data": {
      "text/plain": [
       "['RTL2_dlUeTtiInfo_20170329144557.csv',\n",
       " 'RTL2_dlUeTtiInfo_20170329144609.csv',\n",
       " 'RTL2_dlUeTtiInfo_20170329144621.csv',\n",
       " 'RTL2_dlUeTtiInfo_20170329144633.csv',\n",
       " 'RTL2_dlUeTtiInfo_20170329144645.csv',\n",
       " 'RTL2_dlUeTtiInfo_20170329144656.csv',\n",
       " 'RTL2_dlUeTtiInfo_20170329144708.csv',\n",
       " 'RTL2_dlUeTtiInfo_20170329144720.csv']"
      ]
     },
     "execution_count": 13,
     "metadata": {},
     "output_type": "execute_result"
    }
   ],
   "source": [
    "matchfiles"
   ]
  },
  {
   "cell_type": "code",
   "execution_count": 14,
   "metadata": {},
   "outputs": [],
   "source": [
    "data = [pd.read_csv(os.path.join(r'E:\\work\\Python\\Test\\TestData\\matchack',name)) for name in matchfiles]"
   ]
  },
  {
   "cell_type": "code",
   "execution_count": 15,
   "metadata": {},
   "outputs": [],
   "source": [
    "data_concat = pd.concat(data)"
   ]
  },
  {
   "cell_type": "code",
   "execution_count": 16,
   "metadata": {},
   "outputs": [
    {
     "data": {
      "text/plain": [
       "Index(['Unnamed: 0', 'AirTime', 'FN', 'SubFN', 'UEGID', 'SCHD.u8RbNum',\n",
       "       'SCHD.u8HarqId', 'SCHD.u16ReNum', 'SCHD.u32RbMap', 'TB.u8TbIdx',\n",
       "       'TB.u8Mcs', 'TB.u16TbSize', 'TB.u8TxCnt', 'TB.u16CodeRate',\n",
       "       'ACK.u32DemTime', 'ACK.u8HarqId', 'ACK.u8Tb0AckInfo',\n",
       "       'ACK.u8Tb1AckInfo', 'ACK.u8Tb0IsHarqFail', 'ACK.u8Tb1IsHarqFail'],\n",
       "      dtype='object')"
      ]
     },
     "execution_count": 16,
     "metadata": {},
     "output_type": "execute_result"
    }
   ],
   "source": [
    "data_concat.columns"
   ]
  },
  {
   "cell_type": "code",
   "execution_count": 17,
   "metadata": {},
   "outputs": [],
   "source": [
    "data_concat.to_csv(os.path.join(r'E:\\work\\Python\\Test\\TestData\\matchack','all.csv'))"
   ]
  },
  {
   "cell_type": "code",
   "execution_count": null,
   "metadata": {
    "collapsed": true
   },
   "outputs": [],
   "source": []
  }
 ],
 "metadata": {
  "kernelspec": {
   "display_name": "Python 3",
   "language": "python",
   "name": "python3"
  },
  "language_info": {
   "codemirror_mode": {
    "name": "ipython",
    "version": 3
   },
   "file_extension": ".py",
   "mimetype": "text/x-python",
   "name": "python",
   "nbconvert_exporter": "python",
   "pygments_lexer": "ipython3",
   "version": "3.6.5"
  }
 },
 "nbformat": 4,
 "nbformat_minor": 1
}
