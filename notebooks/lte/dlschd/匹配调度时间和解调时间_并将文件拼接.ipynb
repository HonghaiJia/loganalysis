{
 "cells": [
  {
   "cell_type": "code",
   "execution_count": 9,
   "metadata": {},
   "outputs": [
    {
     "name": "stdout",
     "output_type": "stream",
     "text": [
      "F:\\jiahonghai\\loganalysis\\loganalysis\n"
     ]
    }
   ],
   "source": [
    "cd F:\\jiahonghai\\loganalysis\\loganalysis"
   ]
  },
  {
   "cell_type": "code",
   "execution_count": 12,
   "metadata": {},
   "outputs": [
    {
     "ename": "ModuleNotFoundError",
     "evalue": "No module named 'loganalysis.lte'",
     "output_type": "error",
     "traceback": [
      "\u001b[1;31m---------------------------------------------------------------------------\u001b[0m",
      "\u001b[1;31mModuleNotFoundError\u001b[0m                       Traceback (most recent call last)",
      "\u001b[1;32m<ipython-input-12-67f53b92728a>\u001b[0m in \u001b[0;36m<module>\u001b[1;34m\u001b[0m\n\u001b[1;32m----> 1\u001b[1;33m \u001b[1;32mfrom\u001b[0m \u001b[0mloganalysis\u001b[0m\u001b[1;33m.\u001b[0m\u001b[0mlte\u001b[0m\u001b[1;33m.\u001b[0m\u001b[0mltelog\u001b[0m \u001b[1;32mimport\u001b[0m \u001b[0mLteLog\u001b[0m\u001b[1;33m\u001b[0m\u001b[1;33m\u001b[0m\u001b[0m\n\u001b[0m",
      "\u001b[1;31mModuleNotFoundError\u001b[0m: No module named 'loganalysis.lte'"
     ]
    }
   ],
   "source": [
    "from loganalysis.lte.ltelog import LteLog"
   ]
  },
  {
   "cell_type": "code",
   "execution_count": 3,
   "metadata": {
    "collapsed": true
   },
   "outputs": [],
   "source": [
    "log = LteLog(r'E:\\work\\Python\\Test\\TestData')"
   ]
  },
  {
   "cell_type": "code",
   "execution_count": 8,
   "metadata": {},
   "outputs": [],
   "source": [
    "files = cell.dl._log._files"
   ]
  },
  {
   "cell_type": "code",
   "execution_count": 9,
   "metadata": {},
   "outputs": [],
   "source": [
    "import os"
   ]
  },
  {
   "cell_type": "code",
   "execution_count": 10,
   "metadata": {},
   "outputs": [],
   "source": [
    "cols = ['AirTime','FN','SubFN','UEGID','SCHD.u8RbNum','SCHD.u8HarqId','SCHD.u16ReNum','SCHD.u32RbMap','TB.u8TbIdx','TB.u8Mcs','TB.u16TbSize','TB.u8TxCnt','TB.u16CodeRate','ACK.u32DemTime','ACK.u8HarqId','ACK.u8Tb0AckInfo','ACK.u8Tb1AckInfo','ACK.u8Tb0IsHarqFail','ACK.u8Tb1IsHarqFail']\n",
    "outdir = r'E:\\work\\Python\\Test\\TestData\\matchack'\n",
    "index = 0\n",
    "for matchdata in cell.dl.match_schd_and_ack(cols):\n",
    "    name = os.path.join(outdir, files[index])\n",
    "    index = index + 1\n",
    "    matchdata.to_csv(name)\n",
    "    "
   ]
  },
  {
   "cell_type": "code",
   "execution_count": 11,
   "metadata": {},
   "outputs": [],
   "source": [
    "matchfiles = os.listdir(r'E:\\work\\Python\\Test\\TestData\\matchack')"
   ]
  },
  {
   "cell_type": "code",
   "execution_count": 12,
   "metadata": {
    "collapsed": true
   },
   "outputs": [],
   "source": [
    "import pandas as pd"
   ]
  },
  {
   "cell_type": "code",
   "execution_count": 13,
   "metadata": {},
   "outputs": [
    {
     "data": {
      "text/plain": [
       "['RTL2_dlUeTtiInfo_20170329144557.csv',\n",
       " 'RTL2_dlUeTtiInfo_20170329144609.csv',\n",
       " 'RTL2_dlUeTtiInfo_20170329144621.csv',\n",
       " 'RTL2_dlUeTtiInfo_20170329144633.csv',\n",
       " 'RTL2_dlUeTtiInfo_20170329144645.csv',\n",
       " 'RTL2_dlUeTtiInfo_20170329144656.csv',\n",
       " 'RTL2_dlUeTtiInfo_20170329144708.csv',\n",
       " 'RTL2_dlUeTtiInfo_20170329144720.csv']"
      ]
     },
     "execution_count": 13,
     "metadata": {},
     "output_type": "execute_result"
    }
   ],
   "source": [
    "matchfiles"
   ]
  },
  {
   "cell_type": "code",
   "execution_count": 14,
   "metadata": {},
   "outputs": [],
   "source": [
    "data = [pd.read_csv(os.path.join(r'E:\\work\\Python\\Test\\TestData\\matchack',name)) for name in matchfiles]"
   ]
  },
  {
   "cell_type": "code",
   "execution_count": 15,
   "metadata": {},
   "outputs": [],
   "source": [
    "data_concat = pd.concat(data)"
   ]
  },
  {
   "cell_type": "code",
   "execution_count": 16,
   "metadata": {},
   "outputs": [
    {
     "data": {
      "text/plain": [
       "Index(['Unnamed: 0', 'AirTime', 'FN', 'SubFN', 'UEGID', 'SCHD.u8RbNum',\n",
       "       'SCHD.u8HarqId', 'SCHD.u16ReNum', 'SCHD.u32RbMap', 'TB.u8TbIdx',\n",
       "       'TB.u8Mcs', 'TB.u16TbSize', 'TB.u8TxCnt', 'TB.u16CodeRate',\n",
       "       'ACK.u32DemTime', 'ACK.u8HarqId', 'ACK.u8Tb0AckInfo',\n",
       "       'ACK.u8Tb1AckInfo', 'ACK.u8Tb0IsHarqFail', 'ACK.u8Tb1IsHarqFail'],\n",
       "      dtype='object')"
      ]
     },
     "execution_count": 16,
     "metadata": {},
     "output_type": "execute_result"
    }
   ],
   "source": [
    "data_concat.columns"
   ]
  },
  {
   "cell_type": "code",
   "execution_count": 17,
   "metadata": {},
   "outputs": [],
   "source": [
    "data_concat.to_csv(os.path.join(r'E:\\work\\Python\\Test\\TestData\\matchack','all.csv'))"
   ]
  },
  {
   "cell_type": "code",
   "execution_count": null,
   "metadata": {
    "collapsed": true
   },
   "outputs": [],
   "source": []
  }
 ],
 "metadata": {
  "kernelspec": {
   "display_name": "Python 3",
   "language": "python",
   "name": "python3"
  },
  "language_info": {
   "codemirror_mode": {
    "name": "ipython",
    "version": 3
   },
   "file_extension": ".py",
   "mimetype": "text/x-python",
   "name": "python",
   "nbconvert_exporter": "python",
   "pygments_lexer": "ipython3",
   "version": "3.7.1"
  }
 },
 "nbformat": 4,
 "nbformat_minor": 1
}
